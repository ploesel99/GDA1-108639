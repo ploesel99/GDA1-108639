{
 "cells": [
  {
   "cell_type": "markdown",
   "id": "8ef6c3eb-957c-4074-ae9b-83fa162d2348",
   "metadata": {},
   "source": [
    "# Introduction to Pandas DataFrames\n",
    "![Picture of a panda hugging a python](Pandas.webp)\n",
    "\n",
    "[Pandas](https://pandas.pydata.org/) is a powerful and versatile library for Python, designed primarily for data manipulation and analysis. To quote from Nvidia’s website:\n",
    "> Pandas is the most popular software library for data manipulation and data analysis for the Python programming language. (www.nvidia.com)\n",
    "\n",
    "Here is an (incomplete) list of some key functionalities provided by Pandas:\n",
    "1. **Data Structures**\n",
    "    - Series: One-dimensional labeled array capable of holding data of any type.\n",
    "    - DataFrame: Two-dimensional, size-mutable, potentially heterogeneous tabular data structure with labeled axes (rows and columns).\n",
    "2. **Data Manipulation**\n",
    "    - Data Selection and Indexing: Access data via labels, indices, or boolean masks (<span style=\"color:purple; background-color:#f5f5f5\"> .loc</span>, <span style=\"color:purple; background-color:#f5f5f5\">.iloc</span>, <span style=\"color:purple; background-color:#f5f5f5\">.at</span>, <span style=\"color:purple; background-color:#f5f5f5\">.iat</span>).\n",
    "    - Filtering: Filter data based on conditions or queries.\n",
    "    - Sorting: Sort data by labels or values.\n",
    "    - Handling Missing Data: Identify, fill, or drop missing values (<span style=\"color:purple; background-color:#f5f5f5\">isnull</span>, <span style=\"color:purple; background-color:#f5f5f5\">dropna</span>, <span style=\"color:purple; background-color:#f5f5f5\">fillna</span>).\n",
    "3. **Data Cleaning**\n",
    "    - Dropping Duplicates: Remove duplicate rows or columns.\n",
    "    - Replacing Values: Replace specific values in the DataFrame.\n",
    "    - String Operations: Perform operations on string data, like splitting, replacing, and pattern matching (<span style=\"color:purple; background-color:#f5f5f5\">str.split</span>, <span style=\"color:purple; background-color:#f5f5f5\">str.replace</span>).\n",
    "4. **Aggregation and Grouping**\n",
    "    - Group By: Split data into groups based on criteria, and perform aggregate functions like sum, mean, or custom operations.\n",
    "    - Pivot Tables: Create a pivot table to summarize data.\n",
    "5. **Merging and Joining**\n",
    "    - Concatenation: Combine multiple DataFrames along a particular axis.\n",
    "    - Merging: Merge DataFrames similar to SQL joins (<span style=\"color:purple; background-color:#f5f5f5\">merge</span>, <span style=\"color:purple; background-color:#f5f5f5\">join</span>).\n",
    "6. **Time Series**\n",
    "    - Datetime Conversion: Convert date and time data to a datetime object.\n",
    "    - Resampling: Aggregate data over a time period.\n",
    "    - Time-based Indexing: Access and manipulate time-series data easily with date indexing.\n",
    "7. **Statistical and Mathematical Operations**\n",
    "    - Descriptive Statistics: Compute summary statistics for DataFrame columns.\n",
    "    - Correlation/ Covariance: Calculate the pairwise correlation or covariance between columns.\n",
    "    - Cumulative Operations: Perform cumulative operations on data.\n",
    "\n",
    "At the heart of Pandas lies the DataFrame, a two-dimensional labeled data structure with columns of potentially different types, similar to a table in a relational database or an Excel spreadsheet. Understanding DataFrames is crucial for anyone looking to perform data analysis in Python."
   ]
  },
  {
   "cell_type": "markdown",
   "id": "3e60c20b-2de1-4a53-ba71-6587ffe64e21",
   "metadata": {},
   "source": [
    "# What is a DataFrame?\n",
    "A DataFrame is a table-like structure in Pandas that consists of rows and columns, where each column can hold different data types (e.g., integers, floats, strings). You can think of it as a collection of Series objects, where each Series is a single column of data. DataFrames provide a highly efficient way to store and manipulate large datasets in memory."
   ]
  },
  {
   "cell_type": "markdown",
   "id": "6561e107-d1ef-47c2-9a28-7c6f7f3fa99c",
   "metadata": {},
   "source": [
    "# Creating a DataFrame\n",
    "There are several ways to create a DataFrame in Pandas, but some of the most common methods are:\n",
    "1. From a Dictionary\n",
    "2. From a List of Lists\n",
    "3. From a CSV File\n",
    "Below we take a look at the first two approaches.\n",
    "\n",
    "## Creating DataFrame from a Dictionary\n",
    "The following code will create a DataFrame with three columns: ‘Name’, ‘Age’, and ‘City’, and three rows corresponding to the data provided in the dictionary. To be able to use Pandas, we first have to import it. This is done using the command <span style=\"color:purple; background-color:#f5f5f5\">import pandas</span> as pd, introducing the alias <span style=\"color:purple; background-color:#f5f5f5\">pd</span> for Pandas."
   ]
  },
  {
   "cell_type": "code",
   "execution_count": 3,
   "id": "71bf10df-b2e7-431b-851f-b082cba486ef",
   "metadata": {},
   "outputs": [
    {
     "name": "stdout",
     "output_type": "stream",
     "text": [
      "      Name  Age         City\n",
      "0    Alice   25     New York\n",
      "1      Bob   30  Los Angeles\n",
      "2  Charlie   35      Chicago\n"
     ]
    }
   ],
   "source": [
    "import pandas as pd\n",
    "\n",
    "data = {\n",
    "    'Name': ['Alice', 'Bob', 'Charlie'],\n",
    "    'Age': [25, 30, 35],\n",
    "    'City': ['New York', 'Los Angeles', 'Chicago']\n",
    "}\n",
    "\n",
    "df = pd.DataFrame(data)\n",
    "print(df)"
   ]
  },
  {
   "cell_type": "markdown",
   "id": "766b9c85-6372-491d-9ea3-3853c2751f6c",
   "metadata": {},
   "source": [
    "## Creating DataFrame from a List of Lists\n",
    "Here, we create the DataFrame from a list of lists where each inner list represents the values for one row. Note that We explicitly specify the column names when creating the DataFrame."
   ]
  },
  {
   "cell_type": "code",
   "execution_count": 4,
   "id": "6a12e2cc-1082-49c7-9939-c12689157296",
   "metadata": {},
   "outputs": [
    {
     "name": "stdout",
     "output_type": "stream",
     "text": [
      "      Name  Age         City\n",
      "0    Alice   25     New York\n",
      "1      Bob   30  Los Angeles\n",
      "2  Charlie   35      Chicago\n"
     ]
    }
   ],
   "source": [
    "data = [\n",
    "    ['Alice', 25, 'New York'],\n",
    "    ['Bob', 30, 'Los Angeles'],\n",
    "    ['Charlie', 35, 'Chicago']\n",
    "]\n",
    "\n",
    "df = pd.DataFrame(data, columns=['Name', 'Age', 'City'])\n",
    "print(df)"
   ]
  },
  {
   "cell_type": "markdown",
   "id": "ab824ed4-3e62-41b4-8454-ece71ccb014c",
   "metadata": {},
   "source": [
    "# Accessing Data in a DataFrame\n",
    "Once you have a DataFrame, you can access its data in various ways:\n",
    "- By column name:"
   ]
  },
  {
   "cell_type": "code",
   "execution_count": 5,
   "id": "d342b916-80ee-4574-8006-539ac56be2e0",
   "metadata": {},
   "outputs": [
    {
     "name": "stdout",
     "output_type": "stream",
     "text": [
      "0      Alice\n",
      "1        Bob\n",
      "2    Charlie\n",
      "Name: Name, dtype: object\n"
     ]
    }
   ],
   "source": [
    "print(df['Name'])"
   ]
  },
  {
   "cell_type": "markdown",
   "id": "d0d2dcb9-5dbc-4cb5-aa52-60a13ee02a56",
   "metadata": {},
   "source": [
    "- By row index:"
   ]
  },
  {
   "cell_type": "code",
   "execution_count": 6,
   "id": "7443c594-4c99-4652-94cc-ba5629239e6f",
   "metadata": {},
   "outputs": [
    {
     "name": "stdout",
     "output_type": "stream",
     "text": [
      "Name       Alice\n",
      "Age           25\n",
      "City    New York\n",
      "Name: 0, dtype: object\n"
     ]
    }
   ],
   "source": [
    "print(df.iloc[0])"
   ]
  },
  {
   "cell_type": "markdown",
   "id": "4981d82a-b8ff-44b5-8fb1-b88301415f36",
   "metadata": {},
   "source": [
    "- Using both:"
   ]
  },
  {
   "cell_type": "code",
   "execution_count": 7,
   "id": "1a5c127f-224d-46d2-9152-b7229e9208e7",
   "metadata": {},
   "outputs": [
    {
     "name": "stdout",
     "output_type": "stream",
     "text": [
      "Alice\n"
     ]
    }
   ],
   "source": [
    "print(df.loc[0, 'Name'])"
   ]
  },
  {
   "cell_type": "markdown",
   "id": "3d5d79e0-946d-4270-87fc-9889a62f7a82",
   "metadata": {},
   "source": [
    "# Conclusion\n",
    "Pandas DataFrames are a fundamental tool in the data analysis toolkit for Python users. They provide a powerful way to organize, manipulate, and analyze data efficiently. Whether you’re working with small datasets or handling large-scale data, mastering DataFrames will allow you to tackle a wide range of data-related tasks with ease.\n",
    "\n",
    "In this introduction, we’ve covered the basics of what a DataFrame is, how to create one, and how to access columns, rows, and individual cells in a DataFrame. As you continue to explore Pandas, you’ll discover many more features and capabilities that make DataFrames an indispensable part of Python programming. The table below contains a number of resources related to Pandas.\n",
    "|**Resource**                                                                                   |**Description**                                     |\n",
    "|:----------------------------------------------------------------------------------------------|:---------------------------------------------------|\n",
    "|[Pandas Documentation](https://pandas.pydata.org/)                                             |Official documentation for Pandas.                  |\n",
    "|[Python for Data Analysis](https://www.oreilly.com/library/view/python-for-data/9781491957653/)|Comprehensive guide by Pandas creator, Wes McKinney.|\n",
    "|[Real Python: The Pandas DataFrame](https://realpython.com/pandas-dataframe/)                  |Tutorials on using Pandas for data analysis.        |\n",
    "|[Kaggle Pandas](https://www.kaggle.com/learn/pandas)                                           |Free introductory course on Pandas by Kaggle.       |\n",
    "|[DataCamp Pandas Tutorial](https://www.datacamp.com/tutorial/pandas-tutorial-dataframe-python) |Detailed tutorials and exercises on Pandas.         |"
   ]
  }
 ],
 "metadata": {
  "kernelspec": {
   "display_name": "Python [conda env:base] *",
   "language": "python",
   "name": "conda-base-py"
  },
  "language_info": {
   "codemirror_mode": {
    "name": "ipython",
    "version": 3
   },
   "file_extension": ".py",
   "mimetype": "text/x-python",
   "name": "python",
   "nbconvert_exporter": "python",
   "pygments_lexer": "ipython3",
   "version": "3.12.7"
  }
 },
 "nbformat": 4,
 "nbformat_minor": 5
}
